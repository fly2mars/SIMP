{
 "cells": [
  {
   "cell_type": "markdown",
   "metadata": {},
   "source": [
    "SIMP 2D\n",
    "--------------------"
   ]
  },
  {
   "cell_type": "markdown",
   "metadata": {},
   "source": [
    "问题目标函数定义：\n",
    "$$\n",
    "\\begin{array}{rl} \\min\\limits_{\\mathbf{x}}: & c(\\mathbf{x})=\\mathbf{U}^{\\mathrm{T}}\\mathbf{KU=} \\displaystyle\\sum\\limits_{e=1}^{N} E_{e}(x_{e})\\mathbf{u}_{e}^{\\mathrm{T}}\\mathbf{k}_{0}\\mathbf{u} _{e}\\\\ \\text{subject to}: & V(\\mathbf{x)}/V_{0}=f\\\\ & \\mathbf{K} \\mathbf{U} = \\mathbf{F}\\\\ & \\mathbf{0} \\le \\mathbf{x} \\le \\mathbf{1} \\end{array}\n",
    "$$\n",
    "使用拉格朗日乘数法进行优化，$F(\\mathbf{x},\\lambda) = C(x) + \\lambda(V(\\mathbf{x}) - c)$\n"
   ]
  },
  {
   "cell_type": "markdown",
   "metadata": {},
   "source": [
    "### 单元（材料）刚度矩阵\n",
    "KE = generate_stiffness_mat(nu)\n",
    "\n",
    "在FEA中需要使用$k_e$生成整体刚度矩阵，需转为matrix对象返回，方便执行矩阵乘法。\n",
    "\n",
    "$\\epsilon_e = k_e u_e$\n",
    "\n",
    "其中，$u_e$包含二维元素4个顶点的(x,y)方向位移，因此$k_e$是一个$8 \\times 8$矩阵。"
   ]
  },
  {
   "cell_type": "code",
   "execution_count": 25,
   "metadata": {
    "collapsed": true
   },
   "outputs": [],
   "source": [
    "import numpy as np\n",
    "\n",
    "def generate_stiffness_mat(nu):\n",
    "    A11 = np.array([[12, 3, -6, -3], [ 3, 12,  3,  0], [-6,  3, 12, -3], [-3,  0, -3, 12]])\n",
    "    A12 = np.array(np.mat('-6 -3  0  3; -3 -6 -3 -6;  0 -3 -6  3;  3 -6  3 -6'));\n",
    "    B11 = np.array(np.mat('-4  3 -2  9;  3 -4 -9  4; -2 -9 -4 -3;  9  4 -3 -4'));\n",
    "    B12 = np.array(np.mat('2 -3  4 -9; -3  2  9 -2;  4  9  2  3; -9 -2  3  2'));\n",
    "    #KE = 1/(1-nu^2)/24*([A11 A12;A12' A11]+nu*[B11 B12;B12' B11]); \n",
    "    AA = np.vstack( (np.hstack((A11, A12)), np.hstack((A12.conj().transpose(), A11)) )) ## [A11 A12; A12' A11]\n",
    "    BB = np.vstack(( np.hstack((B11, B12)), np.hstack((B12.conj().transpose(), B11)) )) ## [B11 B12; B12' B11]\n",
    "    \n",
    "    KE = 1/(1-nu**2)/24*(AA + nu * BB)\n",
    "    return np.asmatrix(KE)"
   ]
  },
  {
   "cell_type": "code",
   "execution_count": 26,
   "metadata": {
    "collapsed": true
   },
   "outputs": [],
   "source": [
    "# Reference implementation from https://github.com/worbit/topopt2D/blob/master/topopt2D.py\n",
    "#element stiffness matrix\n",
    "def lk(nu=0.3):\n",
    "    E=1    \n",
    "    k=np.array([1/2-nu/6,1/8+nu/8,-1/4-nu/12,-1/8+3*nu/8,-1/4+nu/12,-1/8-nu/8,nu/6,1/8-3*nu/8])\n",
    "    KE = E/(1-nu**2)*np.array([ [k[0], k[1], k[2], k[3], k[4], k[5], k[6], k[7]],\n",
    "    [k[1], k[0], k[7], k[6], k[5], k[4], k[3], k[2]],\n",
    "    [k[2], k[7], k[0], k[5], k[6], k[3], k[4], k[1]],\n",
    "    [k[3], k[6], k[5], k[0], k[7], k[2], k[1], k[4]],\n",
    "    [k[4], k[5], k[6], k[7], k[0], k[1], k[2], k[3]],\n",
    "    [k[5], k[4], k[3], k[2], k[1], k[0], k[7], k[6]],\n",
    "    [k[6], k[3], k[4], k[1], k[2], k[7], k[0], k[5]],\n",
    "    [k[7], k[2], k[1], k[4], k[3], k[6], k[5], k[0]] ]);\n",
    "    return (KE)"
   ]
  },
  {
   "cell_type": "code",
   "execution_count": 27,
   "metadata": {},
   "outputs": [
    {
     "name": "stdout",
     "output_type": "stream",
     "text": [
      "generate_stiffness_mat()\n",
      "(8, 8)\n",
      "[[ 0.49  0.18 -0.3  -0.01 -0.25 -0.18  0.05  0.01]\n",
      " [ 0.18  0.49  0.01  0.05 -0.18 -0.25 -0.01 -0.3 ]\n",
      " [-0.3   0.01  0.49 -0.18  0.05 -0.01 -0.25  0.18]\n",
      " [-0.01  0.05 -0.18  0.49  0.01 -0.3   0.18 -0.25]\n",
      " [-0.25 -0.18  0.05  0.01  0.49  0.18 -0.3  -0.01]\n",
      " [-0.18 -0.25 -0.01 -0.3   0.18  0.49  0.01  0.05]\n",
      " [ 0.05 -0.01 -0.25  0.18 -0.3   0.01  0.49 -0.18]\n",
      " [ 0.01 -0.3   0.18 -0.25 -0.01  0.05 -0.18  0.49]]\n",
      "lk()\n",
      "(8, 8)\n",
      "[[ 0.49  0.18 -0.3  -0.01 -0.25 -0.18  0.05  0.01]\n",
      " [ 0.18  0.49  0.01  0.05 -0.18 -0.25 -0.01 -0.3 ]\n",
      " [-0.3   0.01  0.49 -0.18  0.05 -0.01 -0.25  0.18]\n",
      " [-0.01  0.05 -0.18  0.49  0.01 -0.3   0.18 -0.25]\n",
      " [-0.25 -0.18  0.05  0.01  0.49  0.18 -0.3  -0.01]\n",
      " [-0.18 -0.25 -0.01 -0.3   0.18  0.49  0.01  0.05]\n",
      " [ 0.05 -0.01 -0.25  0.18 -0.3   0.01  0.49 -0.18]\n",
      " [ 0.01 -0.3   0.18 -0.25 -0.01  0.05 -0.18  0.49]]\n",
      "Sucess\n"
     ]
    }
   ],
   "source": [
    "# Test\n",
    "# 1\n",
    "KE1 = generate_stiffness_mat(0.3)\n",
    "# 2\n",
    "KE2 = lk(0.3)\n",
    "\n",
    "np.set_printoptions(precision=2)\n",
    "def msg(func_name, *paras):\n",
    "    print(func_name)\n",
    "    for p in paras:\n",
    "        print(p)\n",
    "    \n",
    "msg(\"generate_stiffness_mat()\", KE1.shape, KE1)\n",
    "msg(\"lk()\", KE2.shape, KE2)\n",
    "\n",
    "if abs(np.max(KE1 - KE2)) < 0.0001:\n",
    "    print(\"Sucess\")\n"
   ]
  },
  {
   "cell_type": "markdown",
   "metadata": {},
   "source": [
    "### 体结构表达\n",
    "\n",
    "```\n",
    "[iK, jK, edofMat] = generate_volume(nelx, nely)\n",
    "```\n",
    "2D的体结构生成:\n",
    "- edofMat\n",
    "每一行包含1个元素4个节点的自由度，每个节点2个DOF，共8个，编号从左下角开始，逆时针顺序排列(见论文Fig.2)。\n",
    "论文中适用Matlab，从1开始索引，此处适用Python，从0开始索引。\n",
    "因此通过构造每一个元素第一个自由度，通过列运算，依次得到剩余7列元素。\n",
    "\n",
    "- iK, jK\n",
    "列向量，通过Kronecker内积将节点自由度矩阵按行/列扩展8次后，展开成列向量，\n",
    "\n"
   ]
  },
  {
   "cell_type": "code",
   "execution_count": 28,
   "metadata": {
    "collapsed": true
   },
   "outputs": [],
   "source": [
    "def generate_volume(nelx, nely):    \n",
    "    nodenrs = np.arange(1,(1+nelx)*(1+nely)+1).reshape(1+nely, 1+nelx, order='F').copy();\n",
    "    edofVec = (2*nodenrs[0:-1, 0:-1] + 1).reshape(nelx * nely, 1, order='F');\n",
    "    edofMat = np.tile(edofVec,[1,8]) + np.tile(np.hstack([np.hstack([[0,1], 2*nely + np.array([2,3,0,1])]),[-2,-1]]), [nelx*nely,1])\n",
    "    edofMat -= 1   # python index start from  0 \n",
    "    iK = np.kron(edofMat, np.ones([8,1])).reshape([64*nelx*nely,1])\n",
    "    jK = np.kron(edofMat, np.ones([1,8])).reshape([64*nelx*nely,1])\n",
    "    return iK, jK, edofMat\n",
    "\n",
    "    "
   ]
  },
  {
   "cell_type": "code",
   "execution_count": 29,
   "metadata": {
    "collapsed": true
   },
   "outputs": [],
   "source": [
    "#Ref: \n",
    "def mk_edof_mat(nelx, nely):\n",
    "    edofMat=np.zeros((nelx*nely,8),dtype=int)\n",
    "    for elx in range(nelx):\n",
    "        for ely in range(nely):\n",
    "            el = ely+elx*nely\n",
    "            n1=(nely+1)*elx+ely\n",
    "            n2=(nely+1)*(elx+1)+ely\n",
    "            edofMat[el,:]=np.array([2*n1+2, 2*n1+3, 2*n2+2, 2*n2+3,2*n2, 2*n2+1, 2*n1, 2*n1+1])\n",
    "    # Construct the index pointers for the coo format\n",
    "    iK = np.kron(edofMat,np.ones((8,1))).flatten()\n",
    "    jK = np.kron(edofMat,np.ones((1,8))).flatten()   \n",
    "    return iK, jK, edofMat"
   ]
  },
  {
   "cell_type": "code",
   "execution_count": 30,
   "metadata": {},
   "outputs": [
    {
     "name": "stdout",
     "output_type": "stream",
     "text": [
      "ik1\n",
      "(384, 1)\n",
      "ik2\n",
      "(384,)\n",
      "jk1\n",
      "(384, 1)\n",
      "jk2\n",
      "(384,)\n",
      "edofMat1\n",
      "(6, 8)\n",
      "edofMat2\n",
      "(6, 8)\n"
     ]
    }
   ],
   "source": [
    "#test\n",
    "nelx = 3\n",
    "nely = 2\n",
    "iK1,jK1,edofMat1 = generate_volume(nelx, nely)\n",
    "iK2,jK2,edofMat2 = mk_edof_mat(nelx,nely)\n",
    "msg(\"ik1\", iK1.shape, \"ik2\",iK2.shape)\n",
    "msg(\"jk1\", iK1.shape, \"jk2\",jK2.shape)\n",
    "msg(\"edofMat1\", edofMat1.shape,\"edofMat2\", edofMat2.shape)\n",
    "\n"
   ]
  },
  {
   "cell_type": "markdown",
   "metadata": {},
   "source": [
    "\n",
    "### 设置边界条件\n",
    "\n",
    "```\n",
    "% DEFINE LOADS AND SUPPORTS (HALF MBB-BEAM)\n",
    "F = sparse(2,1,-1,2*(nely+1)*(nelx+1),1);\n",
    "U = zeros(2*(nely+1)*(nelx+1),1);\n",
    "fixeddofs = union([1:2:2*(nely+1)],[2*(nelx+1)*(nely+1)]);\n",
    "alldofs = [1:2*(nely+1)*(nelx+1)];\n",
    "freedofs = setdiff(alldofs,fixeddofs);\n",
    "```"
   ]
  },
  {
   "cell_type": "code",
   "execution_count": 31,
   "metadata": {
    "collapsed": true
   },
   "outputs": [],
   "source": [
    "from scipy import sparse\n",
    "\n",
    "def set_BC1(nelx, nely):\n",
    "    row = np.array([1])\n",
    "    col = np.array([0])\n",
    "    data = np.array([-1])\n",
    "    F = sparse.csc_matrix((data, (row, col)), shape=(2*(nelx+1)*(nely+1), 1)).toarray()\n",
    "    U = np.zeros([2*(nely+1)*(nelx+1),1])\n",
    "    fixeddofs = np.hstack((np.arange(1, 2*(nely+1), 2), [2*(nelx+1)*(nely+1)])) - 1\n",
    "    alldofs = np.arange(1, 2*(nely+1)*(nelx+1) + 1) - 1\n",
    "    freedofs = np.array([x for x in alldofs if x not in fixeddofs])\n",
    "    return F, U, fixeddofs, freedofs, alldofs\n",
    "\n",
    "# f is not sparse\n",
    "def set_BC2(nelx, nely):\n",
    "    ndof = 2*(nelx+1)*(nely+1)\n",
    "    # BC's and support\n",
    "    dofs=np.arange(2*(nelx+1)*(nely+1))\n",
    "    fixed=np.union1d(dofs[0:2*(nely+1):2],np.array([2*(nelx+1)*(nely+1)-1]))\n",
    "    free=np.setdiff1d(dofs,fixed)\n",
    "    # Solution and RHS vectors\n",
    "    f=np.zeros((ndof,1))\n",
    "    u=np.zeros((ndof,1))\n",
    "    return f, u, fixed, free, dofs"
   ]
  },
  {
   "cell_type": "code",
   "execution_count": 32,
   "metadata": {},
   "outputs": [
    {
     "name": "stdout",
     "output_type": "stream",
     "text": [
      "set_BC1\n",
      "(24, 1)\n",
      "(24, 1)\n",
      "(20,)\n",
      "(24,)\n",
      "set_BC2\n",
      "(24, 1)\n",
      "(24, 1)\n",
      "(20,)\n",
      "(24,)\n"
     ]
    }
   ],
   "source": [
    "#Test\n",
    "F1, U1, Fixed1, Free1, Dofs1 = set_BC1(nelx, nely)\n",
    "F2, U2, Fixed2, Free2, Dofs2 = set_BC2(nelx, nely)\n",
    "msg(\"set_BC1\", F1.shape, U1.shape, Free1.shape, Dofs1.shape)\n",
    "msg(\"set_BC2\", F2.shape, U2.shape, Free2.shape, Dofs2.shape)"
   ]
  },
  {
   "cell_type": "markdown",
   "metadata": {},
   "source": [
    "### 初始化密度\n",
    "$\\mathbf{V}$是一个$nelx \\times nely$的矩阵，密度是SIMP方法中的主要设计变量。\n",
    "\n",
    "$xPhys$是经过局部滤波后得到的较平滑的密度分布，被称为物理密度，表示设计变量在相应滤波窗口下产生的设计结果。在此处SIMP实现中\n",
    "\n",
    "* ft = 0, $xPhys = \\mathbf{x}$\n",
    "* ft = 1, $xPhys=\\frac{\\sum_j{w{(r_{ej})x_j}}} {\\sum_j w(r_{ej} )} = \\sum_j{\\frac{w(r_{ej})}{\\sum_j w(r_{ej})} \\mathbf{x}}  $\n",
    "\n",
    "初始时$\\mathbf{x} = volfrac * \\mathbf{V}$："
   ]
  },
  {
   "cell_type": "code",
   "execution_count": 33,
   "metadata": {
    "collapsed": true
   },
   "outputs": [],
   "source": [
    "def init_density1(nelx, nely, volfrac):\n",
    "    x = np.tile(volfrac,(nely,nelx))\n",
    "    xPhys = x;\n",
    "    return x, xPhys\n",
    "\n",
    "\n",
    "def init_density2(nelx, nely, volfrac):\n",
    "    x=volfrac * np.ones(nely*nelx,dtype=float)\n",
    "    xPhys=x.copy()\n",
    "    return x, xPhys\n",
    "\n"
   ]
  },
  {
   "cell_type": "code",
   "execution_count": 34,
   "metadata": {},
   "outputs": [
    {
     "name": "stdout",
     "output_type": "stream",
     "text": [
      "1\n",
      "[[ 0.6  0.6  0.6]\n",
      " [ 0.6  0.6  0.6]]\n",
      "2\n",
      "[ 0.6  0.6  0.6  0.6  0.6  0.6]\n"
     ]
    }
   ],
   "source": [
    "# Test\n",
    "volfrac = 0.6\n",
    "nelx = 3\n",
    "nely = 2\n",
    "\n",
    "x1, xPhys1 = init_density1(nelx, nely, volfrac)\n",
    "x2, xPhys2 = init_density2(nelx, nely, volfrac)\n",
    "\n",
    "msg(\"1\",x1)\n",
    "msg(\"2\",x2)\n"
   ]
  },
  {
   "cell_type": "markdown",
   "metadata": {},
   "source": [
    "### 生成滤波窗口\n",
    "过滤器密度函数被定义为\n",
    "实际算法中使用单元灵敏度$x_e$是一个局部邻域的加权平均值\n",
    "$$\\hat x_e=\\frac{\\sum_j{w{(r_{ej})x_j}}} {\\sum_j w(r_{ej} )} = \\sum_j{\\frac{w(r_{ej})}{\\sum_j w(r_{ej})}x}  = \\sum_j \\eta_j x_j,$$\n",
    "其中，$w(r_{ej}) = max(0, r_{min}-r_{ej})$，\n",
    "$r_{ej}=distant(element_e, element_j)$，\n",
    "w是权重函数; \n",
    "$r_{min}$是过滤器半径。\n",
    "权重因子$\\eta_j$只与几何结构相关，可以事先计算，并保存固定权重因子$\\eta_j$：\n",
    "\n",
    "例如：\n",
    "针对每个elment计算距离场，当rmin比较小时，这是一个稀疏矩阵：\n",
    "$$\n",
    "H = \\begin{bmatrix}\n",
    " 0 &  0            & 1     & 2      & \\dots & nelx \\times nely \\\\    \n",
    " 0 & d_{00}       & d_{01} & x_{02} & \\dots & d_{0n} \\\\\n",
    " 1 & d_{10}       & d_{11} & x_{12} & \\dots & d_{1n} \\\\\n",
    " \\dots \\\\\n",
    " nelx \\times nely &  d_{y0}       & d_{y1} & d_{y3} & \\dots & d_{yn}\n",
    "\\end{bmatrix}\n",
    "$$\n",
    "\n",
    "$$Hs = \n",
    "\\begin{bmatrix} \n",
    "\\sum_j w(r_{ej})_0 \\\\\n",
    "\\dots \\\\\n",
    "\\sum_j w(r_{ej})_{nely * nelx - 1}\n",
    "\\end{bmatrix}\n",
    "$$\n",
    "H, Hs = preFilter(rmin)"
   ]
  },
  {
   "cell_type": "code",
   "execution_count": 35,
   "metadata": {
    "collapsed": true
   },
   "outputs": [],
   "source": [
    "def preFilter1(rmin):\n",
    "    nTotal = nelx*nely*(2*(np.ceil(rmin)-1)+1)**2    # nTotal = x*y*Neighbors_per_element\n",
    "    iH = np.ones(int(nTotal))\n",
    "    jH = np.ones(iH.shape)\n",
    "    sH = np.zeros(iH.shape)\n",
    "    \n",
    "    k = 0\n",
    "    for i in np.arange(0,nelx):\n",
    "        for j in np.arange(0,nely):\n",
    "            e = i*nely + j\n",
    "            neighbor_size = np.ceil(rmin) - 1 # unit: element\n",
    "            neighbor_x = np.arange(max(i-neighbor_size, 0), min(i+neighbor_size+1, nelx))\n",
    "            neighbor_y = np.arange(max(j-neighbor_size, 0), min(j+neighbor_size+1, nely))\n",
    "            #(row, col ) = value\n",
    "            for ni in neighbor_x:\n",
    "                for nj in neighbor_y:\n",
    "                    neighbor_e = ni * nely + nj\n",
    "                    iH[k] = e                       #row                \n",
    "                    jH[k] = neighbor_e              #col\n",
    "                    sH[k] = max(0, rmin - np.sqrt((ni-i)**2 +(nj-j)**2 ))#value\n",
    "                    k += 1\n",
    "    \n",
    "    H = sparse.csc_matrix((sH, (iH, jH)) )\n",
    "    Hs = np.sum(H, axis=1)\n",
    "    return H, Hs\n",
    "\n",
    "from scipy.sparse import coo_matrix\n",
    "from scipy.sparse.linalg import spsolve\n",
    "def preFilter2(rmin):\n",
    "    nfilter=nelx*nely*((2*(np.ceil(rmin)-1)+1)**2)\n",
    "    nfilter = int(nfilter)\n",
    "    iH = np.zeros(nfilter)\n",
    "    jH = np.zeros(nfilter)\n",
    "    sH = np.zeros(nfilter)\n",
    "    cc=0\n",
    "    for i in range(nelx):\n",
    "        for j in range(nely):\n",
    "            row=i*nely+j\n",
    "            kk1=int(np.maximum(i-(np.ceil(rmin)-1),0))\n",
    "            kk2=int(np.minimum(i+np.ceil(rmin),nelx))\n",
    "            ll1=int(np.maximum(j-(np.ceil(rmin)-1),0))\n",
    "            ll2=int(np.minimum(j+np.ceil(rmin),nely))\n",
    "            for k in range(kk1,kk2):\n",
    "                for l in range(ll1,ll2):\n",
    "                    col=k*nely+l\n",
    "                    fac=rmin-np.sqrt(((i-k)*(i-k)+(j-l)*(j-l)))\n",
    "                    iH[cc]=row\n",
    "                    jH[cc]=col\n",
    "                    sH[cc]=np.maximum(0.0,fac)\n",
    "                    cc=cc+1\n",
    "    # Finalize assembly and convert to csc format\n",
    "    H=coo_matrix((sH,(iH,jH)),shape=(nelx*nely,nelx*nely)).tocsc()    \n",
    "    Hs=H.sum(1)\n",
    "    return H, Hs"
   ]
  },
  {
   "cell_type": "code",
   "execution_count": 36,
   "metadata": {},
   "outputs": [
    {
     "name": "stdout",
     "output_type": "stream",
     "text": [
      "1\n",
      "(6, 6)\n",
      "(6, 1)\n",
      "2\n",
      "(6, 6)\n",
      "(6, 1)\n",
      "Sucess\n"
     ]
    }
   ],
   "source": [
    "#Test\n",
    "rmin = 1.2\n",
    "H1, Hs1 = preFilter1(rmin)\n",
    "H2, Hs2 = preFilter2(rmin)\n",
    "\n",
    "\n",
    "msg(\"1\", H1.shape, Hs1.shape)\n",
    "msg(\"2\", H2.shape, Hs2.shape)\n",
    "\n",
    "if abs(np.max(H1 - H2)) < 0.0001 and abs(np.max(Hs1 - Hs2)) < 0.0001:\n",
    "    print(\"Sucess\")\n",
    "\n",
    "    "
   ]
  },
  {
   "cell_type": "markdown",
   "metadata": {},
   "source": [
    "### FEA\n",
    "用法：FEA(KE, E0, Emin, xPhys, penal, freedofs, U)\n",
    "\n",
    "返回$(nelx+1) \\times (nely+1) \\times DOFs$长的列向量$U$，其中freedofs位置值为0\n",
    "\n",
    "注意函数中：\n",
    "- U使用全局变量\n",
    "- Ei是$nelx \\times nely$的列向量,根据密度，每个元素初始化为[0-1]之间的标准化杨氏模量 $Ei_e = x_e ^p * (E_0 - E_{min})$\n",
    "- sK\n",
    " "
   ]
  },
  {
   "cell_type": "code",
   "execution_count": 37,
   "metadata": {
    "collapsed": true
   },
   "outputs": [],
   "source": [
    "import numpy.linalg as llg\n",
    "def FEA(KE, E0, Emin, xPhys, penal, freedofs, U):\n",
    "    Ei = np.asmatrix(xPhys.flatten() ** penal*(E0-Emin))    \n",
    "    sK = np.dot(KE.flatten().transpose(), Ei).reshape(64*nely*nelx, 1, order='F')\n",
    "    row = iK[:,0].transpose()\n",
    "    col = jK[:,0].transpose()\n",
    "    data = np.asarray(sK)[:,0].transpose()\n",
    "    K = sparse.csc_matrix((data, (row,col)));\n",
    "    K = (K+K.conj().T)/2;\n",
    "    \n",
    "    A = K[np.ix_(freedofs,freedofs)]\n",
    "    B = np.asmatrix(F[freedofs])\n",
    "    U[freedofs] = llg.solve(A.toarray(),B)\n",
    "    return U\n",
    "\n",
    "def FEA2(KE, Emax, Emin, xPhys, penal, freedofs, U):\n",
    "    # Setup and solve FE problem\n",
    "    sK=((KE.flatten()[np.newaxis]).T*(Emin+(xPhys)**penal*(Emax-Emin))).flatten(order='F')\n",
    "    K = coo_matrix((sK,(iK,jK)),shape=(ndof,ndof)).tocsc()\n",
    "    # Remove constrained dofs from matrix\n",
    "    K = K[free,:][:,free]\n",
    "    # Solve system \n",
    "    u[free,0]=spsolve(K,f[free,0])  \n",
    "    return u\n"
   ]
  },
  {
   "cell_type": "code",
   "execution_count": 45,
   "metadata": {},
   "outputs": [
    {
     "name": "stdout",
     "output_type": "stream",
     "text": [
      "(24, 1)\n",
      "(24, 1)\n",
      "[ 0  2  4 23]\n",
      "[ 1  3  5  6  7  8  9 10 11 12 13 14 15 16 17 18 19 20 21 22]\n",
      "[[  0.  ]\n",
      " [-84.38]\n",
      " [  0.  ]\n",
      " [-78.37]\n",
      " [  0.  ]\n",
      " [-74.  ]\n",
      " [-14.76]\n",
      " [-63.7 ]\n",
      " [  1.32]\n",
      " [-66.63]\n",
      " [ 15.05]\n",
      " [-64.3 ]\n",
      " [-22.86]\n",
      " [-39.06]\n",
      " [ -0.14]\n",
      " [-39.83]\n",
      " [ 25.53]\n",
      " [-40.28]\n",
      " [-24.98]\n",
      " [-11.77]\n",
      " [ -0.12]\n",
      " [ -9.49]\n",
      " [ 30.78]\n",
      " [  0.  ]]\n"
     ]
    }
   ],
   "source": [
    "## test FEA\n",
    "# Test\n",
    "volfrac = 0.6\n",
    "nelx = 3\n",
    "nely = 2\n",
    "E0 = 1;\n",
    "Emin = 1e-9;\n",
    "nu = 0.3;\n",
    "penal = 3\n",
    "KE = generate_stiffness_mat(0.3)\n",
    "iK,jK,edofMat = generate_volume(nelx, nely)\n",
    "x, xPhys = init_density1(nelx, nely, volfrac)\n",
    "F, U, Fixed, Free, Dofs = set_BC1(nelx, nely)\n",
    "\n",
    "U = FEA(KE, E0, Emin, xPhys, penal, Free, U)\n",
    "#print(U)\n",
    "#Ei = np.asmatrix(xPhys.flatten() ** penal*(E0-Emin))  \n",
    "msg(F.shape, U.shape,Fixed,Free,U)"
   ]
  },
  {
   "cell_type": "code",
   "execution_count": 137,
   "metadata": {},
   "outputs": [
    {
     "name": "stdout",
     "output_type": "stream",
     "text": [
      "[[ 1.2  0.2  0.   0.2  0.   0.   0.   0.   0.   0.   0.   0. ]\n",
      " [ 0.2  1.2  0.2  0.   0.2  0.   0.   0.   0.   0.   0.   0. ]\n",
      " [ 0.   0.2  1.2  0.   0.   0.2  0.   0.   0.   0.   0.   0. ]\n",
      " [ 0.2  0.   0.   1.2  0.2  0.   0.2  0.   0.   0.   0.   0. ]\n",
      " [ 0.   0.2  0.   0.2  1.2  0.2  0.   0.2  0.   0.   0.   0. ]\n",
      " [ 0.   0.   0.2  0.   0.2  1.2  0.   0.   0.2  0.   0.   0. ]\n",
      " [ 0.   0.   0.   0.2  0.   0.   1.2  0.2  0.   0.2  0.   0. ]\n",
      " [ 0.   0.   0.   0.   0.2  0.   0.2  1.2  0.2  0.   0.2  0. ]\n",
      " [ 0.   0.   0.   0.   0.   0.2  0.   0.2  1.2  0.   0.   0.2]\n",
      " [ 0.   0.   0.   0.   0.   0.   0.2  0.   0.   1.2  0.2  0. ]\n",
      " [ 0.   0.   0.   0.   0.   0.   0.   0.2  0.   0.2  1.2  0.2]\n",
      " [ 0.   0.   0.   0.   0.   0.   0.   0.   0.2  0.   0.2  1.2]]\n",
      "[[ 1.6]\n",
      " [ 1.8]\n",
      " [ 1.6]\n",
      " [ 1.8]\n",
      " [ 2. ]\n",
      " [ 1.8]\n",
      " [ 1.8]\n",
      " [ 2. ]\n",
      " [ 1.8]\n",
      " [ 1.6]\n",
      " [ 1.8]\n",
      " [ 1.6]]\n"
     ]
    }
   ],
   "source": [
    "# test filter\n",
    "rmin = 1.2\n",
    "H, Hs = preFilter(rmin)\n",
    "print(H.todense())\n",
    "print(Hs)\n"
   ]
  },
  {
   "cell_type": "markdown",
   "metadata": {},
   "source": [
    "### 柔度和灵敏度分析\n",
    "- 计算每个单元的柔度$c_e$\n",
    "$$c_e=u_e^Tk_e  u_e$$\n",
    "\n",
    "  这里$u_e$是一个8$\\times$1的列向量，在上面代码中，将其转为行向量，对于所有N个元素，构造了一个N$\\times$8的矩阵$\\mathbf{U}$，$\\mathbf U *k_e.* U^T$，然后按行求和，得到的$c_e$是一个N维列向量，每个元素代表一个单元的整体变性能。再将其转为一个nelx $\\times$ nely的矩阵，与结构相对应。\n",
    "  \n",
    "\n",
    "- 计算整体柔度，对每一个元素的乘以相应的密度，然后对所有元素求和。在实际代码中，每个元素的密度首先根据SIMP的材料模型$E(x_e) = E_0x_e^p$来计算[Huang & Xie 2009](http://t.cn/RarnNu1)，得到的结果再进行滤波，以模拟物理密度。\n",
    "$$Ce =U^T K U = \\sum_{e=1}^N E_e(x_e)c_e = \\sum_{e=1}^N (E_{min} + x_e^p(E_0 - E_{min}))c_e$$\n",
    "\n",
    "- 敏感度的计算就仍然采用SIMP材料模型，柔度对单元密度进行求导：\n",
    "  $\\alpha_e= \\frac{\\partial(\\mathcal{C})}{\\partial(\\mathcal{x}_e)}$\n",
    "\n",
    "  $\\alpha_e = -p\\mathcal{x}_e^{p-1} (E_0 - E_{min})\\mathbf{u}_e^T\\mathbf{k}_0\\mathbf{u}_e = -p\\mathcal{x}_e^{p-1} (E_0 - E_{min}) c_e$\n",
    "\n",
    "  其中，可变量为$-p\\mathcal{x}_e^{p-1}$,因为在单相材料的优化问题中，SIMP使用了差值方法使材料在数学上保持近似连续分布，此时杨氏模量$E(x_e)= E_{solid}x_e^p$，$p$为惩罚因子，可以保证$0 < E(x_e) < E_{solid}$。\n",
    "  \n",
    "  从上边的计算中可以看到，灵敏度中$E_e = x^p \\mathbf{u}_e^Tk_0 \\mathbf{u}_e$为实体单元应变能，也可以从可直接从FEA中获得。\n",
    "  \n",
    "  本例中使用密度矩阵和柔度矩阵直接得到计算敏感度矩阵dc，然后进行滤波：\n",
    "  \n",
    "  $\\frac{\\hat{\\partial c}}{\\partial x_e} = \\sum_{i \\in N} \\frac{w_{e,i}}{\\sum_{i \\in N} w_{e,i}}  x_e \\frac{\\partial c} {\\partial x_e}$\n",
    "  \n",
    "   其中$w_{e,i}$已经保存在H的行中，$\\sum_{i \\in N} w_{e,i}$存储在$H_s$中。\n",
    "\n"
   ]
  },
  {
   "cell_type": "code",
   "execution_count": 138,
   "metadata": {},
   "outputs": [
    {
     "name": "stdout",
     "output_type": "stream",
     "text": [
      "[[-97.19 -29.96 -12.32  -2.02]\n",
      " [-13.91 -19.99 -18.17 -18.66]\n",
      " [-55.14 -36.97 -17.58 -55.7 ]]\n",
      "[[-75.24]\n",
      " [-30.7 ]\n",
      " [-45.81]\n",
      " [-37.11]\n",
      " [-26.27]\n",
      " [-37.74]\n",
      " [-14.89]\n",
      " [-21.31]\n",
      " [-25.96]\n",
      " [ -5.17]\n",
      " [-22.54]\n",
      " [-44.45]]\n",
      "[[-47.03 -20.62  -8.27  -3.23]\n",
      " [-17.05 -13.14 -10.65 -12.52]\n",
      " [-28.63 -20.97 -14.42 -27.78]]\n"
     ]
    }
   ],
   "source": [
    "a = np.multiply(np.asmatrix(U[edofMat]) * (KE), np.asmatrix(U[edofMat]))\n",
    "ce = np.sum(a, axis=1).reshape(nely, nelx, order='F')\n",
    "c = np.sum(np.sum(np.multiply((Emin+xPhys**penal *(E0-Emin)), ce)))\n",
    "dc = np.multiply(-penal * (E0-Emin)*xPhys**(penal-1),ce)\n",
    "dv = np.ones((nely,nelx))\n",
    "np.set_printoptions(precision=2)\n",
    "print(dc)\n",
    "#print(dc.flatten(order='F').T)\n",
    "print(H * np.multiply(x, dc).flatten(order='F').T)\n",
    "# Filtering dc\n",
    "#dc[:] = np.multiply(H * np.asmatrix(x).flatten().transpose(), dc.flatten().transpose())#/ Hs\n",
    "#filering dc\n",
    "dc =( H * np.multiply(x, dc).flatten(order='F').T / Hs ).reshape(nely, nelx, order='F') \n",
    "print(dc)\n",
    "\n"
   ]
  },
  {
   "cell_type": "markdown",
   "metadata": {},
   "source": [
    "### 优化迭代\n",
    " \n",
    "- 更新策略\n",
    " \n",
    "  选择简单优化准则方法（Optimality criteria，OC）：\n",
    "  $$\n",
    "    x_{e}^{\\mathrm{new}} =\n",
    "    \\begin{cases} \n",
    "      \\max(0,x_{e} - m) & \\text{if $x_{e} B^{\\eta}_{e} \\le \\max(0,x_{e} - m)$} \\\\ \n",
    "      \\min(1,x_{e} + m) & \\text{if x_{e} B^{\\eta}_{e} \\ge \\min(1,x_{e} - m)} \\\\ \n",
    "       x_{e} B^{\\eta}_{e} & \\text{otherwise} \n",
    "    \\end{cases},\n",
    "  $$ \n",
    "  其中$m$是更新步长。这个更新策略的目标简单来说是\n",
    "    Volume = sum(sum(x))是一个关于拉格朗日乘数($\\lambda$)的单调递减函数，\n",
    "    $$$$\n",
    "    一般bi-sectioning算法选择合适的$\\lambda$。逐步缩小\n",
    "     \n",
    "     - ;\n"
   ]
  },
  {
   "cell_type": "code",
   "execution_count": 164,
   "metadata": {
    "collapsed": true
   },
   "outputs": [],
   "source": [
    "def OC(nelx, nely, xPhys, volfrac, dc, ft):\n",
    "    l1 = 0\n",
    "    l2 = 100000 \n",
    "    move = 0.2\n",
    "    while (l2-l1)/(l1+l2) > 1e-3:\n",
    "        lmid = 0.5*(l2+l1);\n",
    "        xnew = np.maximum(0,np.maximum(x-move,np.minimum(1,np.minimum(x+move,np.multiply(x, np.sqrt(-dc/dv/lmid))))));\n",
    "        \n",
    "        if ft == 1:\n",
    "            xPhys = np.asarray(xnew)\n",
    "        else:\n",
    "            if ft == 2:\n",
    "               xPhys = (H * xnew.flatten().T) / Hs;\n",
    "    \n",
    "        if np.sum(xPhys.flatten()) > volfrac*nelx*nely:\n",
    "           l1 = lmid\n",
    "        else:\n",
    "           l2 = lmid\n",
    "    return xPhys"
   ]
  },
  {
   "cell_type": "code",
   "execution_count": 171,
   "metadata": {},
   "outputs": [
    {
     "name": "stdout",
     "output_type": "stream",
     "text": [
      "[[ 0.6  0.6  0.6  0.6]\n",
      " [ 0.6  0.6  0.6  0.6]\n",
      " [ 0.6  0.6  0.6  0.6]]\n",
      "[[ 0.8   0.66  0.42  0.4 ]\n",
      " [ 0.6   0.53  0.48  0.52]\n",
      " [ 0.78  0.67  0.56  0.77]]\n"
     ]
    },
    {
     "data": {
      "text/plain": [
       "numpy.ndarray"
      ]
     },
     "execution_count": 171,
     "metadata": {},
     "output_type": "execute_result"
    }
   ],
   "source": [
    "#test OC and bisection algorithm\n",
    "l1 = 0\n",
    "l2 = 100000 \n",
    "move = 0.2\n",
    "ft = 1\n",
    "lmid = 0.5*(l2+l1)\n",
    "\n",
    "print(xPhys)\n",
    "#a = np.multiply(x, np.sqrt(-dc/dv/lmid))\n",
    "xPhys = OC(nelx, nely, xPhys, volfrac, dc, ft)\n",
    "#OC(nelx, nely, xPhys, volfrac, dc, 1)\n",
    "print(xPhys)\n",
    "type(xPhys)#.flatten() ** penal*(E0-Emin))\n",
    "#type(np.asarray(xPhys))\n",
    "#Ei = np.asmatrix(xPhys.flatten() ** penal*(E0-Emin))"
   ]
  },
  {
   "cell_type": "markdown",
   "metadata": {},
   "source": [
    "### Optimization Iteration\n",
    "\n"
   ]
  },
  {
   "cell_type": "code",
   "execution_count": 173,
   "metadata": {},
   "outputs": [
    {
     "name": "stdout",
     "output_type": "stream",
     "text": [
      "1\n",
      "0.6\n",
      "loop: 1\n",
      "[[ 0.8   0.66  0.42  0.4 ]\n",
      " [ 0.6   0.53  0.48  0.52]\n",
      " [ 0.78  0.67  0.56  0.77]]\n",
      "0.2\n",
      "2\n",
      "0.8\n",
      "loop: 2\n",
      "[[ 1.    0.86  0.41  0.2 ]\n",
      " [ 0.75  0.6   0.28  0.32]\n",
      " [ 0.98  0.87  0.36  0.57]]\n",
      "0.2\n",
      "3\n",
      "1.0\n",
      "loop: 3\n",
      "[[ 1.    1.    0.61  0.05]\n",
      " [ 0.87  0.8   0.13  0.14]\n",
      " [ 1.    1.    0.2   0.39]]\n",
      "0.2\n",
      "4\n",
      "1.0\n",
      "loop: 4\n",
      "[[ 1.    1.    0.81  0.04]\n",
      " [ 0.67  1.    0.1   0.08]\n",
      " [ 1.    0.91  0.12  0.48]]\n",
      "0.2\n",
      "5\n",
      "1.0\n",
      "loop: 5\n",
      "[[ 1.    1.    1.    0.04]\n",
      " [ 0.49  1.    0.11  0.04]\n",
      " [ 0.97  0.84  0.07  0.63]]\n",
      "0.1889675362\n",
      "6\n",
      "1.0\n",
      "loop: 6\n",
      "[[ 1.    1.    1.    0.02]\n",
      " [ 0.54  1.    0.13  0.02]\n",
      " [ 0.82  1.    0.03  0.64]]\n",
      "0.1556035609\n",
      "7\n",
      "1.0\n",
      "loop: 7\n",
      "[[ 1.    1.    1.    0.  ]\n",
      " [ 0.61  1.    0.14  0.01]\n",
      " [ 0.67  1.    0.02  0.75]]\n",
      "0.151149763245\n",
      "8\n",
      "1.0\n",
      "loop: 8\n",
      "[[  1.00e+00   1.00e+00   1.00e+00   9.27e-05]\n",
      " [  6.84e-01   1.00e+00   1.61e-01   3.71e-03]\n",
      " [  5.06e-01   1.00e+00   1.65e-02   8.30e-01]]\n",
      "0.159704858725\n",
      "9\n",
      "1.0\n",
      "loop: 9\n",
      "[[  1.00e+00   1.00e+00   1.00e+00   1.77e-06]\n",
      " [  6.92e-01   1.00e+00   2.80e-01   2.80e-03]\n",
      " [  3.41e-01   1.00e+00   1.53e-02   8.70e-01]]\n",
      "0.164681234867\n",
      "10\n",
      "1.0\n",
      "loop: 10\n",
      "[[  1.00e+00   1.00e+00   1.00e+00   1.70e-08]\n",
      " [  6.45e-01   1.00e+00   4.80e-01   1.13e-02]\n",
      " [  1.97e-01   1.00e+00   6.22e-02   8.06e-01]]\n",
      "0.2\n",
      "11\n",
      "1.0\n",
      "loop: 11\n",
      "[[  1.00e+00   1.00e+00   1.00e+00   4.29e-09]\n",
      " [  4.45e-01   1.00e+00   6.80e-01   2.11e-01]\n",
      " [  5.40e-02   9.43e-01   2.62e-01   6.06e-01]]\n",
      "0.2\n",
      "12\n",
      "1.0\n",
      "loop: 12\n",
      "[[  1.00e+00   1.00e+00   1.00e+00   4.94e-10]\n",
      " [  2.45e-01   1.00e+00   8.80e-01   2.82e-01]\n",
      " [  1.51e-03   8.08e-01   4.62e-01   5.22e-01]]\n",
      "0.2\n",
      "13\n",
      "1.0\n",
      "loop: 13\n",
      "[[  1.00e+00   1.00e+00   1.00e+00   1.18e-11]\n",
      " [  2.01e-01   1.00e+00   1.00e+00   1.31e-01]\n",
      " [  1.85e-05   8.46e-01   6.62e-01   3.61e-01]]\n",
      "0.2\n",
      "14\n",
      "1.0\n",
      "loop: 14\n",
      "[[  1.00e+00   1.00e+00   1.00e+00   9.10e-14]\n",
      " [  1.39e-01   1.00e+00   1.00e+00   3.06e-01]\n",
      " [  1.04e-07   1.00e+00   8.62e-01   5.61e-01]]\n",
      "0.2\n",
      "15\n",
      "1.0\n",
      "loop: 15\n",
      "[[  1.00e+00   1.00e+00   1.00e+00   5.97e-16]\n",
      " [  2.68e-01   1.00e+00   1.00e+00   1.06e-01]\n",
      " [  7.93e-10   1.00e+00   1.00e+00   7.61e-01]]\n",
      "0.2\n",
      "16\n",
      "1.0\n",
      "loop: 16\n",
      "[[  1.00e+00   1.00e+00   1.00e+00   4.74e-18]\n",
      " [  8.13e-02   1.00e+00   1.00e+00   3.06e-01]\n",
      " [  5.65e-12   1.00e+00   1.00e+00   9.61e-01]]\n",
      "0.2\n",
      "17\n",
      "1.0\n",
      "loop: 17\n",
      "[[  1.00e+00   1.00e+00   1.00e+00   3.10e-20]\n",
      " [  2.81e-01   1.00e+00   1.00e+00   1.06e-01]\n",
      " [  4.35e-14   1.00e+00   1.00e+00   1.00e+00]]\n",
      "0.2\n",
      "18\n",
      "1.0\n",
      "loop: 18\n",
      "[[  1.00e+00   1.00e+00   1.00e+00   2.47e-22]\n",
      " [  8.13e-02   1.00e+00   1.00e+00   3.06e-01]\n",
      " [  3.09e-16   1.00e+00   1.00e+00   1.00e+00]]\n",
      "0.2\n",
      "19\n",
      "1.0\n",
      "loop: 19\n",
      "[[  1.00e+00   1.00e+00   1.00e+00   1.61e-24]\n",
      " [  2.81e-01   1.00e+00   1.00e+00   1.06e-01]\n",
      " [  2.38e-18   1.00e+00   1.00e+00   1.00e+00]]\n",
      "0.2\n",
      "20\n",
      "1.0\n",
      "loop: 20\n",
      "[[  1.00e+00   1.00e+00   1.00e+00   1.28e-26]\n",
      " [  8.13e-02   1.00e+00   1.00e+00   3.06e-01]\n",
      " [  1.69e-20   1.00e+00   1.00e+00   1.00e+00]]\n",
      "0.2\n",
      "End\n"
     ]
    }
   ],
   "source": [
    "# optimization\n",
    "\n",
    "change = 1\n",
    "\n",
    "loop = 0\n",
    "Max_Loop = 20\n",
    "\n",
    "E0 = 1;\n",
    "Emin = 1e-9;\n",
    "nu = 0.3;\n",
    "volfrac = 0.6\n",
    "penal = 3\n",
    "x = np.tile(volfrac,(nely,nelx))\n",
    "xPhys = x;\n",
    "U = np.zeros([2*(nely+1)*(nelx+1),1])\n",
    "while change > 0.01 and loop < Max_Loop:\n",
    "        loop += 1\n",
    "        FEA(KE, E0, Emin, xPhys, penal, freedofs, U)\n",
    "        ## Objective function and sensitivity analysis\n",
    "        print(loop)\n",
    "        a = np.multiply(np.asmatrix(U[edofMat]) * (KE), np.asmatrix(U[edofMat]))\n",
    "        ce = np.sum(a, axis=1).reshape(nely, nelx, order='F')\n",
    "        c = np.sum(np.sum(np.multiply((Emin+xPhys**penal *(E0-Emin)), ce)))\n",
    "        dc = np.multiply(-penal * (E0-Emin)*xPhys**(penal-1),ce)\n",
    "        dv = np.ones((nely,nelx))\n",
    "        \n",
    "        ## Filtering and modificating the sensitive\n",
    "        if ft == 1:\n",
    "            b = np.max(x)\n",
    "            print(b)\n",
    "            dc =( H * np.multiply(x, dc).flatten(order='F').T / Hs / b ).reshape(nely, nelx, order='F') \n",
    "    \n",
    "            \n",
    "        ## Update\n",
    "        xPhys = OC(nelx, nely, xPhys, volfrac, dc, ft)\n",
    "        change = np.max(np.abs(xPhys-x));\n",
    "        x = xPhys\n",
    "        \n",
    "        print(\"loop: \" + str(loop))\n",
    "        print(x)\n",
    "        print(change)\n",
    "print('End')"
   ]
  },
  {
   "cell_type": "code",
   "execution_count": null,
   "metadata": {
    "collapsed": true
   },
   "outputs": [],
   "source": []
  }
 ],
 "metadata": {
  "kernelspec": {
   "display_name": "Python 3",
   "language": "python",
   "name": "python3"
  },
  "language_info": {
   "codemirror_mode": {
    "name": "ipython",
    "version": 3
   },
   "file_extension": ".py",
   "mimetype": "text/x-python",
   "name": "python",
   "nbconvert_exporter": "python",
   "pygments_lexer": "ipython3",
   "version": "3.6.1"
  }
 },
 "nbformat": 4,
 "nbformat_minor": 2
}
